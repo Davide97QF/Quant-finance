{
 "cells": [
  {
   "cell_type": "markdown",
   "id": "dcd3044e",
   "metadata": {},
   "source": [
    "Python option pricing engine. In this file there we will price European call and put option and plot graphs for payoffs and greeks."
   ]
  },
  {
   "cell_type": "code",
   "execution_count": 1,
   "id": "60f6dca4",
   "metadata": {},
   "outputs": [
    {
     "name": "stderr",
     "output_type": "stream",
     "text": [
      "WARNING: You are using pip version 21.2.3; however, version 21.3.1 is available.\n",
      "You should consider upgrading via the 'C:\\Users\\Geekerd\\AppData\\Local\\Programs\\Python\\Python39\\python.exe -m pip install --upgrade pip' command.\n"
     ]
    },
    {
     "name": "stdout",
     "output_type": "stream",
     "text": [
      "Requirement already satisfied: scipy in c:\\users\\geekerd\\appdata\\local\\programs\\python\\python39\\lib\\site-packages (1.7.1)\n",
      "Requirement already satisfied: numpy<1.23.0,>=1.16.5 in c:\\users\\geekerd\\appdata\\local\\programs\\python\\python39\\lib\\site-packages (from scipy) (1.21.3)\n"
     ]
    }
   ],
   "source": [
    "#importing the packages needed\n",
    "import sys\n",
    "!{sys.executable} -m pip install scipy\n",
    "import pandas as pd\n",
    "import numpy as np\n",
    "import matplotlib.pyplot as plt\n",
    "import datetime as dt\n",
    "from pandas_datareader import data as pdr\n",
    "from scipy.stats import norm\n",
    "from datetime import date\n",
    "import math"
   ]
  },
  {
   "cell_type": "code",
   "execution_count": 2,
   "id": "85eea67b",
   "metadata": {},
   "outputs": [
    {
     "name": "stdout",
     "output_type": "stream",
     "text": [
      "0.02\n",
      "What stock is the option on?: TSLA\n",
      "Call or put?: Call\n",
      "Please insert the strike: 1100\n",
      "Please insert the time to maturity in days: 30\n",
      "Please insert the number of days to consider to get the historical volatiility: 40\n"
     ]
    }
   ],
   "source": [
    "#input from user in order to get information\n",
    "rf = 0.02\n",
    "print(rf)\n",
    "stock = input('What stock is the option on?: ')\n",
    "option_type = input('Call or put?: ')\n",
    "strike = float(input('Please insert the strike: '))\n",
    "time_to_mat = int(input('Please insert the time to maturity in days: '))\n",
    "days_for_vol = int(input ('Please insert the number of days to consider to get the historical volatiility: '))"
   ]
  },
  {
   "cell_type": "code",
   "execution_count": 3,
   "id": "2d39498d",
   "metadata": {},
   "outputs": [
    {
     "data": {
      "text/plain": [
       "(datetime.date(2021, 10, 4), datetime.date(2021, 11, 13))"
      ]
     },
     "execution_count": 3,
     "metadata": {},
     "output_type": "execute_result"
    }
   ],
   "source": [
    "\n",
    "#insert the date\n",
    "end = date.today()\n",
    "start = end-dt.timedelta(days=days_for_vol)\n",
    "start,end\n",
    "\n"
   ]
  },
  {
   "cell_type": "code",
   "execution_count": 4,
   "id": "acd83065",
   "metadata": {},
   "outputs": [
    {
     "name": "stdout",
     "output_type": "stream",
     "text": [
      "The selected stocks is ['TSLA']\n"
     ]
    },
    {
     "data": {
      "text/html": [
       "<div>\n",
       "<style scoped>\n",
       "    .dataframe tbody tr th:only-of-type {\n",
       "        vertical-align: middle;\n",
       "    }\n",
       "\n",
       "    .dataframe tbody tr th {\n",
       "        vertical-align: top;\n",
       "    }\n",
       "\n",
       "    .dataframe thead tr th {\n",
       "        text-align: left;\n",
       "    }\n",
       "\n",
       "    .dataframe thead tr:last-of-type th {\n",
       "        text-align: right;\n",
       "    }\n",
       "</style>\n",
       "<table border=\"1\" class=\"dataframe\">\n",
       "  <thead>\n",
       "    <tr>\n",
       "      <th>Attributes</th>\n",
       "      <th>Adj Close</th>\n",
       "      <th>Close</th>\n",
       "      <th>High</th>\n",
       "      <th>Low</th>\n",
       "      <th>Open</th>\n",
       "      <th>Volume</th>\n",
       "    </tr>\n",
       "    <tr>\n",
       "      <th>Symbols</th>\n",
       "      <th>TSLA</th>\n",
       "      <th>TSLA</th>\n",
       "      <th>TSLA</th>\n",
       "      <th>TSLA</th>\n",
       "      <th>TSLA</th>\n",
       "      <th>TSLA</th>\n",
       "    </tr>\n",
       "    <tr>\n",
       "      <th>Date</th>\n",
       "      <th></th>\n",
       "      <th></th>\n",
       "      <th></th>\n",
       "      <th></th>\n",
       "      <th></th>\n",
       "      <th></th>\n",
       "    </tr>\n",
       "  </thead>\n",
       "  <tbody>\n",
       "    <tr>\n",
       "      <th>2021-10-04</th>\n",
       "      <td>781.530029</td>\n",
       "      <td>781.530029</td>\n",
       "      <td>806.969971</td>\n",
       "      <td>776.119995</td>\n",
       "      <td>796.500000</td>\n",
       "      <td>30483300</td>\n",
       "    </tr>\n",
       "    <tr>\n",
       "      <th>2021-10-05</th>\n",
       "      <td>780.590027</td>\n",
       "      <td>780.590027</td>\n",
       "      <td>797.309998</td>\n",
       "      <td>774.200012</td>\n",
       "      <td>784.799988</td>\n",
       "      <td>18432600</td>\n",
       "    </tr>\n",
       "    <tr>\n",
       "      <th>2021-10-06</th>\n",
       "      <td>782.750000</td>\n",
       "      <td>782.750000</td>\n",
       "      <td>786.659973</td>\n",
       "      <td>773.219971</td>\n",
       "      <td>776.200012</td>\n",
       "      <td>14632800</td>\n",
       "    </tr>\n",
       "    <tr>\n",
       "      <th>2021-10-07</th>\n",
       "      <td>793.609985</td>\n",
       "      <td>793.609985</td>\n",
       "      <td>805.000000</td>\n",
       "      <td>783.380005</td>\n",
       "      <td>785.460022</td>\n",
       "      <td>19195800</td>\n",
       "    </tr>\n",
       "    <tr>\n",
       "      <th>2021-10-08</th>\n",
       "      <td>785.489990</td>\n",
       "      <td>785.489990</td>\n",
       "      <td>796.380005</td>\n",
       "      <td>780.909973</td>\n",
       "      <td>796.210022</td>\n",
       "      <td>16711100</td>\n",
       "    </tr>\n",
       "    <tr>\n",
       "      <th>2021-10-11</th>\n",
       "      <td>791.940002</td>\n",
       "      <td>791.940002</td>\n",
       "      <td>801.239990</td>\n",
       "      <td>785.500000</td>\n",
       "      <td>787.650024</td>\n",
       "      <td>14200300</td>\n",
       "    </tr>\n",
       "    <tr>\n",
       "      <th>2021-10-12</th>\n",
       "      <td>805.719971</td>\n",
       "      <td>805.719971</td>\n",
       "      <td>812.320007</td>\n",
       "      <td>796.570007</td>\n",
       "      <td>800.929993</td>\n",
       "      <td>22020000</td>\n",
       "    </tr>\n",
       "    <tr>\n",
       "      <th>2021-10-13</th>\n",
       "      <td>811.080017</td>\n",
       "      <td>811.080017</td>\n",
       "      <td>815.409973</td>\n",
       "      <td>805.780029</td>\n",
       "      <td>810.469971</td>\n",
       "      <td>14120100</td>\n",
       "    </tr>\n",
       "    <tr>\n",
       "      <th>2021-10-14</th>\n",
       "      <td>818.320007</td>\n",
       "      <td>818.320007</td>\n",
       "      <td>820.250000</td>\n",
       "      <td>813.349976</td>\n",
       "      <td>815.489990</td>\n",
       "      <td>12247200</td>\n",
       "    </tr>\n",
       "    <tr>\n",
       "      <th>2021-10-15</th>\n",
       "      <td>843.030029</td>\n",
       "      <td>843.030029</td>\n",
       "      <td>843.210022</td>\n",
       "      <td>822.349976</td>\n",
       "      <td>823.739990</td>\n",
       "      <td>18818000</td>\n",
       "    </tr>\n",
       "    <tr>\n",
       "      <th>2021-10-18</th>\n",
       "      <td>870.109985</td>\n",
       "      <td>870.109985</td>\n",
       "      <td>875.260010</td>\n",
       "      <td>851.469971</td>\n",
       "      <td>851.789978</td>\n",
       "      <td>24207200</td>\n",
       "    </tr>\n",
       "    <tr>\n",
       "      <th>2021-10-19</th>\n",
       "      <td>864.270020</td>\n",
       "      <td>864.270020</td>\n",
       "      <td>877.950012</td>\n",
       "      <td>862.510010</td>\n",
       "      <td>877.530029</td>\n",
       "      <td>17381100</td>\n",
       "    </tr>\n",
       "    <tr>\n",
       "      <th>2021-10-20</th>\n",
       "      <td>865.799988</td>\n",
       "      <td>865.799988</td>\n",
       "      <td>869.489990</td>\n",
       "      <td>857.380005</td>\n",
       "      <td>865.349976</td>\n",
       "      <td>14032100</td>\n",
       "    </tr>\n",
       "    <tr>\n",
       "      <th>2021-10-21</th>\n",
       "      <td>894.000000</td>\n",
       "      <td>894.000000</td>\n",
       "      <td>900.000000</td>\n",
       "      <td>855.500000</td>\n",
       "      <td>856.000000</td>\n",
       "      <td>31481500</td>\n",
       "    </tr>\n",
       "    <tr>\n",
       "      <th>2021-10-22</th>\n",
       "      <td>909.679993</td>\n",
       "      <td>909.679993</td>\n",
       "      <td>910.000000</td>\n",
       "      <td>890.960022</td>\n",
       "      <td>895.500000</td>\n",
       "      <td>22880800</td>\n",
       "    </tr>\n",
       "    <tr>\n",
       "      <th>2021-10-25</th>\n",
       "      <td>1024.859985</td>\n",
       "      <td>1024.859985</td>\n",
       "      <td>1045.020020</td>\n",
       "      <td>944.200012</td>\n",
       "      <td>950.530029</td>\n",
       "      <td>62852100</td>\n",
       "    </tr>\n",
       "    <tr>\n",
       "      <th>2021-10-26</th>\n",
       "      <td>1018.429993</td>\n",
       "      <td>1018.429993</td>\n",
       "      <td>1094.939941</td>\n",
       "      <td>1001.440002</td>\n",
       "      <td>1024.689941</td>\n",
       "      <td>62415000</td>\n",
       "    </tr>\n",
       "    <tr>\n",
       "      <th>2021-10-27</th>\n",
       "      <td>1037.859985</td>\n",
       "      <td>1037.859985</td>\n",
       "      <td>1070.880005</td>\n",
       "      <td>1030.780029</td>\n",
       "      <td>1039.660034</td>\n",
       "      <td>38526500</td>\n",
       "    </tr>\n",
       "    <tr>\n",
       "      <th>2021-10-28</th>\n",
       "      <td>1077.040039</td>\n",
       "      <td>1077.040039</td>\n",
       "      <td>1081.000000</td>\n",
       "      <td>1054.199951</td>\n",
       "      <td>1068.310059</td>\n",
       "      <td>27213200</td>\n",
       "    </tr>\n",
       "    <tr>\n",
       "      <th>2021-10-29</th>\n",
       "      <td>1114.000000</td>\n",
       "      <td>1114.000000</td>\n",
       "      <td>1115.209961</td>\n",
       "      <td>1073.209961</td>\n",
       "      <td>1081.859985</td>\n",
       "      <td>29918400</td>\n",
       "    </tr>\n",
       "    <tr>\n",
       "      <th>2021-11-01</th>\n",
       "      <td>1208.589966</td>\n",
       "      <td>1208.589966</td>\n",
       "      <td>1209.750000</td>\n",
       "      <td>1118.660034</td>\n",
       "      <td>1145.000000</td>\n",
       "      <td>56048700</td>\n",
       "    </tr>\n",
       "    <tr>\n",
       "      <th>2021-11-02</th>\n",
       "      <td>1172.000000</td>\n",
       "      <td>1172.000000</td>\n",
       "      <td>1208.589966</td>\n",
       "      <td>1146.000000</td>\n",
       "      <td>1159.359985</td>\n",
       "      <td>42737800</td>\n",
       "    </tr>\n",
       "    <tr>\n",
       "      <th>2021-11-03</th>\n",
       "      <td>1213.859985</td>\n",
       "      <td>1213.859985</td>\n",
       "      <td>1215.390015</td>\n",
       "      <td>1152.619995</td>\n",
       "      <td>1177.329956</td>\n",
       "      <td>34628500</td>\n",
       "    </tr>\n",
       "    <tr>\n",
       "      <th>2021-11-04</th>\n",
       "      <td>1229.910034</td>\n",
       "      <td>1229.910034</td>\n",
       "      <td>1243.489990</td>\n",
       "      <td>1217.000000</td>\n",
       "      <td>1234.410034</td>\n",
       "      <td>25397400</td>\n",
       "    </tr>\n",
       "    <tr>\n",
       "      <th>2021-11-05</th>\n",
       "      <td>1222.089966</td>\n",
       "      <td>1222.089966</td>\n",
       "      <td>1239.869995</td>\n",
       "      <td>1208.000000</td>\n",
       "      <td>1228.000000</td>\n",
       "      <td>21579900</td>\n",
       "    </tr>\n",
       "    <tr>\n",
       "      <th>2021-11-08</th>\n",
       "      <td>1162.939941</td>\n",
       "      <td>1162.939941</td>\n",
       "      <td>1197.000000</td>\n",
       "      <td>1133.000000</td>\n",
       "      <td>1149.790039</td>\n",
       "      <td>33445700</td>\n",
       "    </tr>\n",
       "    <tr>\n",
       "      <th>2021-11-09</th>\n",
       "      <td>1023.500000</td>\n",
       "      <td>1023.500000</td>\n",
       "      <td>1174.500000</td>\n",
       "      <td>1011.520020</td>\n",
       "      <td>1173.599976</td>\n",
       "      <td>59105800</td>\n",
       "    </tr>\n",
       "    <tr>\n",
       "      <th>2021-11-10</th>\n",
       "      <td>1067.949951</td>\n",
       "      <td>1067.949951</td>\n",
       "      <td>1078.099976</td>\n",
       "      <td>987.309998</td>\n",
       "      <td>1010.409973</td>\n",
       "      <td>42802700</td>\n",
       "    </tr>\n",
       "    <tr>\n",
       "      <th>2021-11-11</th>\n",
       "      <td>1063.510010</td>\n",
       "      <td>1063.510010</td>\n",
       "      <td>1104.969971</td>\n",
       "      <td>1054.680054</td>\n",
       "      <td>1102.770020</td>\n",
       "      <td>22396600</td>\n",
       "    </tr>\n",
       "    <tr>\n",
       "      <th>2021-11-12</th>\n",
       "      <td>1033.420044</td>\n",
       "      <td>1033.420044</td>\n",
       "      <td>1054.500000</td>\n",
       "      <td>1019.200012</td>\n",
       "      <td>1047.500000</td>\n",
       "      <td>25182300</td>\n",
       "    </tr>\n",
       "  </tbody>\n",
       "</table>\n",
       "</div>"
      ],
      "text/plain": [
       "Attributes    Adj Close        Close         High          Low         Open  \\\n",
       "Symbols            TSLA         TSLA         TSLA         TSLA         TSLA   \n",
       "Date                                                                          \n",
       "2021-10-04   781.530029   781.530029   806.969971   776.119995   796.500000   \n",
       "2021-10-05   780.590027   780.590027   797.309998   774.200012   784.799988   \n",
       "2021-10-06   782.750000   782.750000   786.659973   773.219971   776.200012   \n",
       "2021-10-07   793.609985   793.609985   805.000000   783.380005   785.460022   \n",
       "2021-10-08   785.489990   785.489990   796.380005   780.909973   796.210022   \n",
       "2021-10-11   791.940002   791.940002   801.239990   785.500000   787.650024   \n",
       "2021-10-12   805.719971   805.719971   812.320007   796.570007   800.929993   \n",
       "2021-10-13   811.080017   811.080017   815.409973   805.780029   810.469971   \n",
       "2021-10-14   818.320007   818.320007   820.250000   813.349976   815.489990   \n",
       "2021-10-15   843.030029   843.030029   843.210022   822.349976   823.739990   \n",
       "2021-10-18   870.109985   870.109985   875.260010   851.469971   851.789978   \n",
       "2021-10-19   864.270020   864.270020   877.950012   862.510010   877.530029   \n",
       "2021-10-20   865.799988   865.799988   869.489990   857.380005   865.349976   \n",
       "2021-10-21   894.000000   894.000000   900.000000   855.500000   856.000000   \n",
       "2021-10-22   909.679993   909.679993   910.000000   890.960022   895.500000   \n",
       "2021-10-25  1024.859985  1024.859985  1045.020020   944.200012   950.530029   \n",
       "2021-10-26  1018.429993  1018.429993  1094.939941  1001.440002  1024.689941   \n",
       "2021-10-27  1037.859985  1037.859985  1070.880005  1030.780029  1039.660034   \n",
       "2021-10-28  1077.040039  1077.040039  1081.000000  1054.199951  1068.310059   \n",
       "2021-10-29  1114.000000  1114.000000  1115.209961  1073.209961  1081.859985   \n",
       "2021-11-01  1208.589966  1208.589966  1209.750000  1118.660034  1145.000000   \n",
       "2021-11-02  1172.000000  1172.000000  1208.589966  1146.000000  1159.359985   \n",
       "2021-11-03  1213.859985  1213.859985  1215.390015  1152.619995  1177.329956   \n",
       "2021-11-04  1229.910034  1229.910034  1243.489990  1217.000000  1234.410034   \n",
       "2021-11-05  1222.089966  1222.089966  1239.869995  1208.000000  1228.000000   \n",
       "2021-11-08  1162.939941  1162.939941  1197.000000  1133.000000  1149.790039   \n",
       "2021-11-09  1023.500000  1023.500000  1174.500000  1011.520020  1173.599976   \n",
       "2021-11-10  1067.949951  1067.949951  1078.099976   987.309998  1010.409973   \n",
       "2021-11-11  1063.510010  1063.510010  1104.969971  1054.680054  1102.770020   \n",
       "2021-11-12  1033.420044  1033.420044  1054.500000  1019.200012  1047.500000   \n",
       "\n",
       "Attributes    Volume  \n",
       "Symbols         TSLA  \n",
       "Date                  \n",
       "2021-10-04  30483300  \n",
       "2021-10-05  18432600  \n",
       "2021-10-06  14632800  \n",
       "2021-10-07  19195800  \n",
       "2021-10-08  16711100  \n",
       "2021-10-11  14200300  \n",
       "2021-10-12  22020000  \n",
       "2021-10-13  14120100  \n",
       "2021-10-14  12247200  \n",
       "2021-10-15  18818000  \n",
       "2021-10-18  24207200  \n",
       "2021-10-19  17381100  \n",
       "2021-10-20  14032100  \n",
       "2021-10-21  31481500  \n",
       "2021-10-22  22880800  \n",
       "2021-10-25  62852100  \n",
       "2021-10-26  62415000  \n",
       "2021-10-27  38526500  \n",
       "2021-10-28  27213200  \n",
       "2021-10-29  29918400  \n",
       "2021-11-01  56048700  \n",
       "2021-11-02  42737800  \n",
       "2021-11-03  34628500  \n",
       "2021-11-04  25397400  \n",
       "2021-11-05  21579900  \n",
       "2021-11-08  33445700  \n",
       "2021-11-09  59105800  \n",
       "2021-11-10  42802700  \n",
       "2021-11-11  22396600  \n",
       "2021-11-12  25182300  "
      ]
     },
     "execution_count": 4,
     "metadata": {},
     "output_type": "execute_result"
    }
   ],
   "source": [
    "#select the chosen stock from the user input\n",
    "chosen_stock = [stock]\n",
    "print('The selected stocks is '+ str(chosen_stock))\n",
    "#get data for that stock\n",
    "chosen_stock_data =pdr.get_data_yahoo(chosen_stock,start,end)\n",
    "chosen_stock_data"
   ]
  },
  {
   "cell_type": "code",
   "execution_count": 5,
   "id": "aa141331",
   "metadata": {},
   "outputs": [
    {
     "data": {
      "text/html": [
       "<div>\n",
       "<style scoped>\n",
       "    .dataframe tbody tr th:only-of-type {\n",
       "        vertical-align: middle;\n",
       "    }\n",
       "\n",
       "    .dataframe tbody tr th {\n",
       "        vertical-align: top;\n",
       "    }\n",
       "\n",
       "    .dataframe thead th {\n",
       "        text-align: right;\n",
       "    }\n",
       "</style>\n",
       "<table border=\"1\" class=\"dataframe\">\n",
       "  <thead>\n",
       "    <tr style=\"text-align: right;\">\n",
       "      <th>Symbols</th>\n",
       "      <th>TSLA</th>\n",
       "    </tr>\n",
       "    <tr>\n",
       "      <th>Date</th>\n",
       "      <th></th>\n",
       "    </tr>\n",
       "  </thead>\n",
       "  <tbody>\n",
       "    <tr>\n",
       "      <th>2021-10-04</th>\n",
       "      <td>781.530029</td>\n",
       "    </tr>\n",
       "    <tr>\n",
       "      <th>2021-10-05</th>\n",
       "      <td>780.590027</td>\n",
       "    </tr>\n",
       "    <tr>\n",
       "      <th>2021-10-06</th>\n",
       "      <td>782.750000</td>\n",
       "    </tr>\n",
       "    <tr>\n",
       "      <th>2021-10-07</th>\n",
       "      <td>793.609985</td>\n",
       "    </tr>\n",
       "    <tr>\n",
       "      <th>2021-10-08</th>\n",
       "      <td>785.489990</td>\n",
       "    </tr>\n",
       "  </tbody>\n",
       "</table>\n",
       "</div>"
      ],
      "text/plain": [
       "Symbols           TSLA\n",
       "Date                  \n",
       "2021-10-04  781.530029\n",
       "2021-10-05  780.590027\n",
       "2021-10-06  782.750000\n",
       "2021-10-07  793.609985\n",
       "2021-10-08  785.489990"
      ]
     },
     "execution_count": 5,
     "metadata": {},
     "output_type": "execute_result"
    }
   ],
   "source": [
    "#getting only the closing prices\n",
    "chosen_stock_data_close = chosen_stock_data.Close\n",
    "chosen_stock_data_close.head()\n"
   ]
  },
  {
   "cell_type": "code",
   "execution_count": 6,
   "id": "3c70b7f4",
   "metadata": {},
   "outputs": [
    {
     "data": {
      "text/html": [
       "<div>\n",
       "<style scoped>\n",
       "    .dataframe tbody tr th:only-of-type {\n",
       "        vertical-align: middle;\n",
       "    }\n",
       "\n",
       "    .dataframe tbody tr th {\n",
       "        vertical-align: top;\n",
       "    }\n",
       "\n",
       "    .dataframe thead th {\n",
       "        text-align: right;\n",
       "    }\n",
       "</style>\n",
       "<table border=\"1\" class=\"dataframe\">\n",
       "  <thead>\n",
       "    <tr style=\"text-align: right;\">\n",
       "      <th>Symbols</th>\n",
       "      <th>TSLA</th>\n",
       "    </tr>\n",
       "  </thead>\n",
       "  <tbody>\n",
       "    <tr>\n",
       "      <th>count</th>\n",
       "      <td>30.000000</td>\n",
       "    </tr>\n",
       "    <tr>\n",
       "      <th>mean</th>\n",
       "      <td>968.929331</td>\n",
       "    </tr>\n",
       "    <tr>\n",
       "      <th>std</th>\n",
       "      <td>158.548395</td>\n",
       "    </tr>\n",
       "    <tr>\n",
       "      <th>min</th>\n",
       "      <td>780.590027</td>\n",
       "    </tr>\n",
       "    <tr>\n",
       "      <th>25%</th>\n",
       "      <td>812.890015</td>\n",
       "    </tr>\n",
       "    <tr>\n",
       "      <th>50%</th>\n",
       "      <td>964.054993</td>\n",
       "    </tr>\n",
       "    <tr>\n",
       "      <th>75%</th>\n",
       "      <td>1074.767517</td>\n",
       "    </tr>\n",
       "    <tr>\n",
       "      <th>max</th>\n",
       "      <td>1229.910034</td>\n",
       "    </tr>\n",
       "  </tbody>\n",
       "</table>\n",
       "</div>"
      ],
      "text/plain": [
       "Symbols         TSLA\n",
       "count      30.000000\n",
       "mean      968.929331\n",
       "std       158.548395\n",
       "min       780.590027\n",
       "25%       812.890015\n",
       "50%       964.054993\n",
       "75%      1074.767517\n",
       "max      1229.910034"
      ]
     },
     "execution_count": 6,
     "metadata": {},
     "output_type": "execute_result"
    }
   ],
   "source": [
    "#statistics about the prices\n",
    "chosen_stock_data_close.describe()\n"
   ]
  },
  {
   "cell_type": "code",
   "execution_count": 7,
   "id": "14742641",
   "metadata": {},
   "outputs": [
    {
     "data": {
      "text/plain": [
       "<AxesSubplot:xlabel='Date'>"
      ]
     },
     "execution_count": 7,
     "metadata": {},
     "output_type": "execute_result"
    },
    {
     "data": {
      "image/png": "[encoded data removed]",
      "text/plain": [
       "<Figure size 720x360 with 1 Axes>"
      ]
     },
     "metadata": {
      "needs_background": "light"
     },
     "output_type": "display_data"
    }
   ],
   "source": [
    "#plotting the closing prices\n",
    "chosen_stock_data_close.plot(figsize=(10,5))"
   ]
  },
  {
   "cell_type": "code",
   "execution_count": 8,
   "id": "a4fc948a",
   "metadata": {},
   "outputs": [
    {
     "data": {
      "text/html": [
       "<div>\n",
       "<style scoped>\n",
       "    .dataframe tbody tr th:only-of-type {\n",
       "        vertical-align: middle;\n",
       "    }\n",
       "\n",
       "    .dataframe tbody tr th {\n",
       "        vertical-align: top;\n",
       "    }\n",
       "\n",
       "    .dataframe thead th {\n",
       "        text-align: right;\n",
       "    }\n",
       "</style>\n",
       "<table border=\"1\" class=\"dataframe\">\n",
       "  <thead>\n",
       "    <tr style=\"text-align: right;\">\n",
       "      <th>Symbols</th>\n",
       "      <th>TSLA</th>\n",
       "    </tr>\n",
       "    <tr>\n",
       "      <th>Date</th>\n",
       "      <th></th>\n",
       "    </tr>\n",
       "  </thead>\n",
       "  <tbody>\n",
       "    <tr>\n",
       "      <th>2021-10-05</th>\n",
       "      <td>-0.001203</td>\n",
       "    </tr>\n",
       "    <tr>\n",
       "      <th>2021-10-06</th>\n",
       "      <td>0.002767</td>\n",
       "    </tr>\n",
       "    <tr>\n",
       "      <th>2021-10-07</th>\n",
       "      <td>0.013874</td>\n",
       "    </tr>\n",
       "    <tr>\n",
       "      <th>2021-10-08</th>\n",
       "      <td>-0.010232</td>\n",
       "    </tr>\n",
       "    <tr>\n",
       "      <th>2021-10-11</th>\n",
       "      <td>0.008211</td>\n",
       "    </tr>\n",
       "    <tr>\n",
       "      <th>2021-10-12</th>\n",
       "      <td>0.017400</td>\n",
       "    </tr>\n",
       "    <tr>\n",
       "      <th>2021-10-13</th>\n",
       "      <td>0.006652</td>\n",
       "    </tr>\n",
       "    <tr>\n",
       "      <th>2021-10-14</th>\n",
       "      <td>0.008926</td>\n",
       "    </tr>\n",
       "    <tr>\n",
       "      <th>2021-10-15</th>\n",
       "      <td>0.030196</td>\n",
       "    </tr>\n",
       "    <tr>\n",
       "      <th>2021-10-18</th>\n",
       "      <td>0.032122</td>\n",
       "    </tr>\n",
       "    <tr>\n",
       "      <th>2021-10-19</th>\n",
       "      <td>-0.006712</td>\n",
       "    </tr>\n",
       "    <tr>\n",
       "      <th>2021-10-20</th>\n",
       "      <td>0.001770</td>\n",
       "    </tr>\n",
       "    <tr>\n",
       "      <th>2021-10-21</th>\n",
       "      <td>0.032571</td>\n",
       "    </tr>\n",
       "    <tr>\n",
       "      <th>2021-10-22</th>\n",
       "      <td>0.017539</td>\n",
       "    </tr>\n",
       "    <tr>\n",
       "      <th>2021-10-25</th>\n",
       "      <td>0.126616</td>\n",
       "    </tr>\n",
       "    <tr>\n",
       "      <th>2021-10-26</th>\n",
       "      <td>-0.006274</td>\n",
       "    </tr>\n",
       "    <tr>\n",
       "      <th>2021-10-27</th>\n",
       "      <td>0.019078</td>\n",
       "    </tr>\n",
       "    <tr>\n",
       "      <th>2021-10-28</th>\n",
       "      <td>0.037751</td>\n",
       "    </tr>\n",
       "    <tr>\n",
       "      <th>2021-10-29</th>\n",
       "      <td>0.034316</td>\n",
       "    </tr>\n",
       "    <tr>\n",
       "      <th>2021-11-01</th>\n",
       "      <td>0.084910</td>\n",
       "    </tr>\n",
       "    <tr>\n",
       "      <th>2021-11-02</th>\n",
       "      <td>-0.030275</td>\n",
       "    </tr>\n",
       "    <tr>\n",
       "      <th>2021-11-03</th>\n",
       "      <td>0.035717</td>\n",
       "    </tr>\n",
       "    <tr>\n",
       "      <th>2021-11-04</th>\n",
       "      <td>0.013222</td>\n",
       "    </tr>\n",
       "    <tr>\n",
       "      <th>2021-11-05</th>\n",
       "      <td>-0.006358</td>\n",
       "    </tr>\n",
       "    <tr>\n",
       "      <th>2021-11-08</th>\n",
       "      <td>-0.048401</td>\n",
       "    </tr>\n",
       "    <tr>\n",
       "      <th>2021-11-09</th>\n",
       "      <td>-0.119903</td>\n",
       "    </tr>\n",
       "    <tr>\n",
       "      <th>2021-11-10</th>\n",
       "      <td>0.043429</td>\n",
       "    </tr>\n",
       "    <tr>\n",
       "      <th>2021-11-11</th>\n",
       "      <td>-0.004157</td>\n",
       "    </tr>\n",
       "    <tr>\n",
       "      <th>2021-11-12</th>\n",
       "      <td>-0.028293</td>\n",
       "    </tr>\n",
       "  </tbody>\n",
       "</table>\n",
       "</div>"
      ],
      "text/plain": [
       "Symbols         TSLA\n",
       "Date                \n",
       "2021-10-05 -0.001203\n",
       "2021-10-06  0.002767\n",
       "2021-10-07  0.013874\n",
       "2021-10-08 -0.010232\n",
       "2021-10-11  0.008211\n",
       "2021-10-12  0.017400\n",
       "2021-10-13  0.006652\n",
       "2021-10-14  0.008926\n",
       "2021-10-15  0.030196\n",
       "2021-10-18  0.032122\n",
       "2021-10-19 -0.006712\n",
       "2021-10-20  0.001770\n",
       "2021-10-21  0.032571\n",
       "2021-10-22  0.017539\n",
       "2021-10-25  0.126616\n",
       "2021-10-26 -0.006274\n",
       "2021-10-27  0.019078\n",
       "2021-10-28  0.037751\n",
       "2021-10-29  0.034316\n",
       "2021-11-01  0.084910\n",
       "2021-11-02 -0.030275\n",
       "2021-11-03  0.035717\n",
       "2021-11-04  0.013222\n",
       "2021-11-05 -0.006358\n",
       "2021-11-08 -0.048401\n",
       "2021-11-09 -0.119903\n",
       "2021-11-10  0.043429\n",
       "2021-11-11 -0.004157\n",
       "2021-11-12 -0.028293"
      ]
     },
     "execution_count": 8,
     "metadata": {},
     "output_type": "execute_result"
    }
   ],
   "source": [
    "#getting the returns\n",
    "returns =chosen_stock_data_close/chosen_stock_data_close.shift(1)-1\n",
    "returns = returns.dropna()\n",
    "returns"
   ]
  },
  {
   "cell_type": "code",
   "execution_count": 9,
   "id": "de23fd06",
   "metadata": {},
   "outputs": [
    {
     "data": {
      "text/plain": [
       "<AxesSubplot:xlabel='Date'>"
      ]
     },
     "execution_count": 9,
     "metadata": {},
     "output_type": "execute_result"
    },
    {
     "data": {
      "image/png": "[encoded data removed]",
      "text/plain": [
       "<Figure size 720x360 with 1 Axes>"
      ]
     },
     "metadata": {
      "needs_background": "light"
     },
     "output_type": "display_data"
    }
   ],
   "source": [
    "#plotting returns\n",
    "returns.plot(figsize=(10,5))"
   ]
  },
  {
   "cell_type": "code",
   "execution_count": 10,
   "id": "a89801a0",
   "metadata": {},
   "outputs": [
    {
     "data": {
      "text/plain": [
       "Symbols\n",
       "TSLA    0.669503\n",
       "dtype: float64"
      ]
     },
     "execution_count": 10,
     "metadata": {},
     "output_type": "execute_result"
    }
   ],
   "source": [
    "#std deviation\n",
    "sigma = returns.std()*np.sqrt(256)\n",
    "sigma"
   ]
  },
  {
   "cell_type": "code",
   "execution_count": 11,
   "id": "90456b27",
   "metadata": {
    "scrolled": true
   },
   "outputs": [
    {
     "name": "stdout",
     "output_type": "stream",
     "text": [
      "The initial stock price is [1033.42004395]\n",
      "The option value is [68.50603366]\n"
     ]
    }
   ],
   "source": [
    "#implementing Black Scholes model without dividends\n",
    "\n",
    "\n",
    "from scipy.stats import norm\n",
    "\n",
    "#setting the parameters for the bs model\n",
    "\n",
    "S0= pd.DataFrame(chosen_stock_data_close).to_numpy()           #initial stock price\n",
    "S0 = S0[-1]\n",
    "print('The initial stock price is ' + str(S0))\n",
    "\n",
    "K = strike\n",
    "T = time_to_mat/256\n",
    "\n",
    "#defining the equation for the options\n",
    "def bs_scholes(S0,rf,K,T,sigma,option_type):\n",
    "    #setting the parameters d1 and d2\n",
    "    d1= (np.log(S0/K)+(rf+sigma**2/2)*T)/(sigma*np.sqrt(T))\n",
    "    d2= d1-sigma*np.sqrt(T)\n",
    "    try:\n",
    "        if option_type == 'Call':\n",
    "            price = S0*norm.cdf(d1,0,1)-K*np.exp(-rf*T)*norm.cdf(d2,0,1)\n",
    "        \n",
    "        elif option_type =='Put':\n",
    "            price = K*np.exp(-rf*T)*norm.cdf(-d2,0,1)-S0*norm.cdf(-d1,0,1)\n",
    "        return price\n",
    "    except:\n",
    "        print('Please insert Put or Call')\n",
    "\n",
    "print('The option value is ' +str(bs_scholes(S0,rf,K,T,sigma,option_type)))\n",
    "       \n",
    "        \n",
    "        "
   ]
  },
  {
   "cell_type": "code",
   "execution_count": 12,
   "id": "f88b13ea",
   "metadata": {},
   "outputs": [
    {
     "data": {
      "image/png": "[encoded data removed]",
      "text/plain": [
       "<Figure size 432x288 with 1 Axes>"
      ]
     },
     "metadata": {
      "needs_background": "light"
     },
     "output_type": "display_data"
    }
   ],
   "source": [
    "Stock_range = np.arange(1000,1050)\n",
    "option_graph = [bs_scholes(x,rf,K,T,sigma,option_type) for x in Stock_range]\n",
    "\n",
    "plt.plot(Stock_range,option_graph, 'r', label = \"Relation option price underlying price\")\n",
    "\n",
    "plt.legend()\n",
    "plt.ylabel(\"Option price\")\n",
    "plt.xlabel(\"Stock price\")\n",
    "plt.show()"
   ]
  },
  {
   "cell_type": "code",
   "execution_count": 13,
   "id": "1dd63392",
   "metadata": {},
   "outputs": [
    {
     "name": "stdout",
     "output_type": "stream",
     "text": [
      "The option delta is [0.44132796]\n"
     ]
    }
   ],
   "source": [
    "#delta\n",
    "def delta_calc(S0,rf,K,T,sigma,option_type):\n",
    "    #setting the parameters d1 \n",
    "    d1= (np.log(S0/K)+(rf+sigma**2/2)*T)/(sigma*np.sqrt(T))\n",
    "    \n",
    "    try:\n",
    "        if option_type == 'Call':\n",
    "            delta = norm.cdf(d1,0,1)\n",
    "        \n",
    "        elif option_type =='Put':\n",
    "            delta = -norm.cdf(-d1,0,1)\n",
    "        return delta\n",
    "    except:\n",
    "        print('Please insert Put or Call')\n",
    "\n",
    "print('The option delta is ' +str(delta_calc(S0,rf,K,T,sigma,option_type)))\n",
    "\n",
    "\n"
   ]
  },
  {
   "cell_type": "code",
   "execution_count": 14,
   "id": "7d556833",
   "metadata": {},
   "outputs": [
    {
     "name": "stdout",
     "output_type": "stream",
     "text": [
      "The option gamma is Symbols\n",
      "TSLA    0.001666\n",
      "dtype: float64\n"
     ]
    }
   ],
   "source": [
    "#gamma\n",
    "def gamma_calc(S0,rf,K,T,sigma,option_type):\n",
    "    #setting the parameters d1 \n",
    "    d1= (np.log(S0/K)+(rf+sigma**2/2)*T)/(sigma*np.sqrt(T))\n",
    "    \n",
    "    try:\n",
    "        gamma = norm.pdf(d1,0,1)/(S0*sigma*np.sqrt(T))\n",
    "        return gamma\n",
    "    except:\n",
    "        print('Please insert Put or Call')\n",
    "\n",
    "print('The option gamma is ' +str(gamma_calc(S0,rf,K,T,sigma,option_type)))"
   ]
  },
  {
   "cell_type": "code",
   "execution_count": 15,
   "id": "a465d2af",
   "metadata": {},
   "outputs": [
    {
     "name": "stdout",
     "output_type": "stream",
     "text": [
      "The option vega is [139.6036161]\n"
     ]
    }
   ],
   "source": [
    "#vega\n",
    "def vega_calc(S0,rf,K,T,sigma,option_type):\n",
    "    #setting the parameters d1 \n",
    "    d1= (np.log(S0/K)+(rf+sigma**2/2)*T)/(sigma*np.sqrt(T))\n",
    "    \n",
    "    try:\n",
    "        vega = S0*norm.pdf(d1,0,1)*np.sqrt(T)\n",
    "        return vega\n",
    "    except:\n",
    "        print('Please insert Put or Call')\n",
    "\n",
    "print('The option vega is ' +str(vega_calc(S0,rf,K,T,sigma,option_type)))"
   ]
  },
  {
   "cell_type": "code",
   "execution_count": 16,
   "id": "5ba4e82f",
   "metadata": {},
   "outputs": [
    {
     "name": "stdout",
     "output_type": "stream",
     "text": [
      "The option theta is [-15.93132192]\n"
     ]
    }
   ],
   "source": [
    "#theta\n",
    "def theta_calc(S0,rf,K,T,sigma,option_type):\n",
    "    #setting the parameters d1 \n",
    "    d1= (np.log(S0/K)+(rf+sigma**2/2)*T)/(sigma*np.sqrt(T))\n",
    "    d2= d1-sigma*np.sqrt(T)\n",
    "    try:\n",
    "        if option_type == 'Call':\n",
    "            theta = -((S0*norm.pdf(d1,0,1)*np.sqrt(T))/2*T)-rf*K*(np.exp(-rf*T))*norm.cdf(d2)\n",
    "        \n",
    "        elif option_type =='Put':\n",
    "            theta = -((S0*norm.pdf(d1,0,1)*np.sqrt(T))/2*T)+rf*K*(np.exp(-rf*T))*norm.cdf(-d2)\n",
    "        return theta\n",
    "    except:\n",
    "        print('Please insert Put or Call')\n",
    "\n",
    "print('The option theta is ' +str(theta_calc(S0,rf,K,T,sigma,option_type)))"
   ]
  },
  {
   "cell_type": "code",
   "execution_count": 17,
   "id": "37bf05a7",
   "metadata": {},
   "outputs": [
    {
     "name": "stdout",
     "output_type": "stream",
     "text": [
      "The option rho is [45.41849141]\n"
     ]
    }
   ],
   "source": [
    "#rho\n",
    "def rho_calc(S0,rf,K,T,sigma,option_type):\n",
    "    #setting the parameters d1 \n",
    "    d1= (np.log(S0/K)+(rf+sigma**2/2)*T)/(sigma*np.sqrt(T))\n",
    "    d2= d1-sigma*np.sqrt(T)\n",
    "    try:\n",
    "        if option_type == 'Call':\n",
    "            rho = K*T*np.exp(-rf*T)*norm.cdf(d2)\n",
    "        \n",
    "        elif option_type =='Put':\n",
    "            rho = -K*T*np.exp(-rf*T)*norm.cdf(-d2)\n",
    "        return rho\n",
    "    except:\n",
    "        print('Please insert Put or Call')\n",
    "\n",
    "print('The option rho is ' +str(rho_calc(S0,rf,K,T,sigma,option_type)))"
   ]
  },
  {
   "cell_type": "code",
   "execution_count": 36,
   "id": "0dff3ee7",
   "metadata": {},
   "outputs": [
    {
     "data": {
      "text/plain": [
       "<matplotlib.legend.Legend at 0x276d8b5fdf0>"
      ]
     },
     "execution_count": 36,
     "metadata": {},
     "output_type": "execute_result"
    },
    {
     "data": {
      "image/png": "[encoded data removed]",
      "text/plain": [
       "<Figure size 2880x2160 with 1 Axes>"
      ]
     },
     "metadata": {
      "needs_background": "light"
     },
     "output_type": "display_data"
    }
   ],
   "source": [
    "fig, ax = plt.subplots(nrows=1, ncols=1, sharex=True, sharey=True, figsize=(40, 30))\n",
    "\n",
    "fig.text(0.5, 0.08, 'Stock/Underlying Price ($)', ha='center', fontsize=18, fontweight='bold')\n",
    "vals = [0.80*S0,0.9*S0,0.95*S0,S0,1.05*S0,1.10*S0,1.2*S0]\n",
    "min = 0.2*S0\n",
    "max = 1.5*S0\n",
    "\n",
    "plt.subplot(321)\n",
    "for i in vals:\n",
    "    tmp_c = [delta_calc(S0,rf,i,T,sigma,option_type) for S0 in np.arange(min,max)]\n",
    "\n",
    "    plt.plot(tmp_c, label = (\"Delta Call K=%i\" % i ))\n",
    "\n",
    "plt.ylabel(\"Delta\")\n",
    "plt.legend()\n",
    "    "
   ]
  },
  {
   "cell_type": "code",
   "execution_count": null,
   "id": "99c19324",
   "metadata": {},
   "outputs": [],
   "source": []
  }
 ],
 "metadata": {
  "kernelspec": {
   "display_name": "Python 3 (ipykernel)",
   "language": "python",
   "name": "python3"
  },
  "language_info": {
   "codemirror_mode": {
    "name": "ipython",
    "version": 3
   },
   "file_extension": ".py",
   "mimetype": "text/x-python",
   "name": "python",
   "nbconvert_exporter": "python",
   "pygments_lexer": "ipython3",
   "version": "3.9.7"
  }
 },
 "nbformat": 4,
 "nbformat_minor": 5
}
